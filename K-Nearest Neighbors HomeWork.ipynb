{
 "cells": [
  {
   "cell_type": "markdown",
   "metadata": {},
   "source": [
    "# Task\n",
    "Use any financial ticker (except S&P500) to create the trading strategy, using KNN classifier.\n",
    "\n",
    "---\n",
    "Upload data for one ticker (for the recent year) from Yahoo Finance. Make brief exploratory analysis of obtained data.Apply KNN classifier to obtained data. Assess the quality of the model. Create and briefly justify the trading strategy.\n",
    "\n",
    "Hint. Use [this material](https://blog.quantinsti.com/machine-learning-k-nearest-neighbors-knn-algorithm-python/) to start your own calculations. [This link](https://pypi.org/project/fix-yahoo-finance/0.1.30/) with library fixes might be helpful."
   ]
  },
  {
   "cell_type": "code",
   "execution_count": 4,
   "metadata": {},
   "outputs": [
    {
     "data": {
      "text/html": [
       "<div>\n",
       "<style scoped>\n",
       "    .dataframe tbody tr th:only-of-type {\n",
       "        vertical-align: middle;\n",
       "    }\n",
       "\n",
       "    .dataframe tbody tr th {\n",
       "        vertical-align: top;\n",
       "    }\n",
       "\n",
       "    .dataframe thead th {\n",
       "        text-align: right;\n",
       "    }\n",
       "</style>\n",
       "<table border=\"1\" class=\"dataframe\">\n",
       "  <thead>\n",
       "    <tr style=\"text-align: right;\">\n",
       "      <th></th>\n",
       "      <th>Open</th>\n",
       "      <th>High</th>\n",
       "      <th>Low</th>\n",
       "      <th>Close</th>\n",
       "    </tr>\n",
       "    <tr>\n",
       "      <th>Date</th>\n",
       "      <th></th>\n",
       "      <th></th>\n",
       "      <th></th>\n",
       "      <th></th>\n",
       "    </tr>\n",
       "  </thead>\n",
       "  <tbody>\n",
       "    <tr>\n",
       "      <th>2019-12-12</th>\n",
       "      <td>279.519989</td>\n",
       "      <td>282.950012</td>\n",
       "      <td>279.239990</td>\n",
       "      <td>281.950012</td>\n",
       "    </tr>\n",
       "    <tr>\n",
       "      <th>2019-12-13</th>\n",
       "      <td>281.929993</td>\n",
       "      <td>283.609985</td>\n",
       "      <td>281.000000</td>\n",
       "      <td>282.109985</td>\n",
       "    </tr>\n",
       "    <tr>\n",
       "      <th>2019-12-16</th>\n",
       "      <td>282.929993</td>\n",
       "      <td>284.109985</td>\n",
       "      <td>282.929993</td>\n",
       "      <td>283.070007</td>\n",
       "    </tr>\n",
       "    <tr>\n",
       "      <th>2019-12-17</th>\n",
       "      <td>283.190002</td>\n",
       "      <td>284.000000</td>\n",
       "      <td>282.910004</td>\n",
       "      <td>283.399994</td>\n",
       "    </tr>\n",
       "    <tr>\n",
       "      <th>2019-12-18</th>\n",
       "      <td>283.790009</td>\n",
       "      <td>283.910004</td>\n",
       "      <td>283.149994</td>\n",
       "      <td>283.209991</td>\n",
       "    </tr>\n",
       "    <tr>\n",
       "      <th>...</th>\n",
       "      <td>...</td>\n",
       "      <td>...</td>\n",
       "      <td>...</td>\n",
       "      <td>...</td>\n",
       "    </tr>\n",
       "    <tr>\n",
       "      <th>2020-12-07</th>\n",
       "      <td>301.769989</td>\n",
       "      <td>302.160004</td>\n",
       "      <td>300.000000</td>\n",
       "      <td>301.100006</td>\n",
       "    </tr>\n",
       "    <tr>\n",
       "      <th>2020-12-08</th>\n",
       "      <td>300.010010</td>\n",
       "      <td>302.869995</td>\n",
       "      <td>299.980011</td>\n",
       "      <td>302.200012</td>\n",
       "    </tr>\n",
       "    <tr>\n",
       "      <th>2020-12-09</th>\n",
       "      <td>303.220001</td>\n",
       "      <td>303.600006</td>\n",
       "      <td>299.970001</td>\n",
       "      <td>300.880005</td>\n",
       "    </tr>\n",
       "    <tr>\n",
       "      <th>2020-12-10</th>\n",
       "      <td>299.989990</td>\n",
       "      <td>301.149994</td>\n",
       "      <td>299.200012</td>\n",
       "      <td>300.540009</td>\n",
       "    </tr>\n",
       "    <tr>\n",
       "      <th>2020-12-11</th>\n",
       "      <td>299.429993</td>\n",
       "      <td>301.179993</td>\n",
       "      <td>298.679993</td>\n",
       "      <td>300.929993</td>\n",
       "    </tr>\n",
       "  </tbody>\n",
       "</table>\n",
       "<p>253 rows × 4 columns</p>\n",
       "</div>"
      ],
      "text/plain": [
       "                  Open        High         Low       Close\n",
       "Date                                                      \n",
       "2019-12-12  279.519989  282.950012  279.239990  281.950012\n",
       "2019-12-13  281.929993  283.609985  281.000000  282.109985\n",
       "2019-12-16  282.929993  284.109985  282.929993  283.070007\n",
       "2019-12-17  283.190002  284.000000  282.910004  283.399994\n",
       "2019-12-18  283.790009  283.910004  283.149994  283.209991\n",
       "...                ...         ...         ...         ...\n",
       "2020-12-07  301.769989  302.160004  300.000000  301.100006\n",
       "2020-12-08  300.010010  302.869995  299.980011  302.200012\n",
       "2020-12-09  303.220001  303.600006  299.970001  300.880005\n",
       "2020-12-10  299.989990  301.149994  299.200012  300.540009\n",
       "2020-12-11  299.429993  301.179993  298.679993  300.929993\n",
       "\n",
       "[253 rows x 4 columns]"
      ]
     },
     "execution_count": 4,
     "metadata": {},
     "output_type": "execute_result"
    }
   ],
   "source": [
    "#I chose DIA ticker\n",
    "import numpy as np\n",
    "import pandas as pd\n",
    "import matplotlib.pyplot as plt\n",
    "from sklearn.neighbors import KNeighborsClassifier\n",
    "from sklearn.metrics import accuracy_score\n",
    "from pandas_datareader import data as pdr\n",
    "import yfinance as yf\n",
    "from pandas.plotting import register_matplotlib_converters\n",
    "register_matplotlib_converters()\n",
    "\n",
    "#getting tha data for the recent year\n",
    "df= pdr.get_data_yahoo('DIA', '2019-12-12', '2020-12-12')\n",
    "df = df.dropna()\n",
    "df = df[['Open', 'High', 'Low','Close']]\n",
    "df"
   ]
  },
  {
   "cell_type": "code",
   "execution_count": 5,
   "metadata": {},
   "outputs": [
    {
     "data": {
      "text/html": [
       "<div>\n",
       "<style scoped>\n",
       "    .dataframe tbody tr th:only-of-type {\n",
       "        vertical-align: middle;\n",
       "    }\n",
       "\n",
       "    .dataframe tbody tr th {\n",
       "        vertical-align: top;\n",
       "    }\n",
       "\n",
       "    .dataframe thead th {\n",
       "        text-align: right;\n",
       "    }\n",
       "</style>\n",
       "<table border=\"1\" class=\"dataframe\">\n",
       "  <thead>\n",
       "    <tr style=\"text-align: right;\">\n",
       "      <th></th>\n",
       "      <th>Open</th>\n",
       "      <th>High</th>\n",
       "      <th>Low</th>\n",
       "      <th>Close</th>\n",
       "    </tr>\n",
       "  </thead>\n",
       "  <tbody>\n",
       "    <tr>\n",
       "      <th>count</th>\n",
       "      <td>253.000000</td>\n",
       "      <td>253.000000</td>\n",
       "      <td>253.000000</td>\n",
       "      <td>253.000000</td>\n",
       "    </tr>\n",
       "    <tr>\n",
       "      <th>mean</th>\n",
       "      <td>268.165021</td>\n",
       "      <td>270.280711</td>\n",
       "      <td>265.837036</td>\n",
       "      <td>268.124388</td>\n",
       "    </tr>\n",
       "    <tr>\n",
       "      <th>std</th>\n",
       "      <td>24.376181</td>\n",
       "      <td>23.312899</td>\n",
       "      <td>25.343420</td>\n",
       "      <td>24.284169</td>\n",
       "    </tr>\n",
       "    <tr>\n",
       "      <th>min</th>\n",
       "      <td>190.130005</td>\n",
       "      <td>191.199997</td>\n",
       "      <td>182.100006</td>\n",
       "      <td>186.130005</td>\n",
       "    </tr>\n",
       "    <tr>\n",
       "      <th>25%</th>\n",
       "      <td>255.070007</td>\n",
       "      <td>257.940002</td>\n",
       "      <td>252.059998</td>\n",
       "      <td>255.910004</td>\n",
       "    </tr>\n",
       "    <tr>\n",
       "      <th>50%</th>\n",
       "      <td>275.000000</td>\n",
       "      <td>277.070007</td>\n",
       "      <td>273.290009</td>\n",
       "      <td>274.660004</td>\n",
       "    </tr>\n",
       "    <tr>\n",
       "      <th>75%</th>\n",
       "      <td>286.220001</td>\n",
       "      <td>287.029999</td>\n",
       "      <td>284.850006</td>\n",
       "      <td>285.929993</td>\n",
       "    </tr>\n",
       "    <tr>\n",
       "      <th>max</th>\n",
       "      <td>303.220001</td>\n",
       "      <td>303.600006</td>\n",
       "      <td>300.600006</td>\n",
       "      <td>302.589996</td>\n",
       "    </tr>\n",
       "  </tbody>\n",
       "</table>\n",
       "</div>"
      ],
      "text/plain": [
       "             Open        High         Low       Close\n",
       "count  253.000000  253.000000  253.000000  253.000000\n",
       "mean   268.165021  270.280711  265.837036  268.124388\n",
       "std     24.376181   23.312899   25.343420   24.284169\n",
       "min    190.130005  191.199997  182.100006  186.130005\n",
       "25%    255.070007  257.940002  252.059998  255.910004\n",
       "50%    275.000000  277.070007  273.290009  274.660004\n",
       "75%    286.220001  287.029999  284.850006  285.929993\n",
       "max    303.220001  303.600006  300.600006  302.589996"
      ]
     },
     "execution_count": 5,
     "metadata": {},
     "output_type": "execute_result"
    }
   ],
   "source": [
    "df.describe()"
   ]
  },
  {
   "cell_type": "markdown",
   "metadata": {},
   "source": [
    "The data obtained consists an information about 253 business days over the last year ended 12.12.20. There are open and close prices with highest and lowest values observed per day.\n",
    "– min open and close prices were 190 nd 186 respectively<br>\n",
    "– max open and close were 303 and 302<br>\n",
    "– standard deviation for both ndicators is about 25<br>\n",
    "– median value is a little bit higher than average – 275 VS 268 (open and close median), 274 VS 268 (open and close average)"
   ]
  },
  {
   "cell_type": "code",
   "execution_count": 6,
   "metadata": {},
   "outputs": [
    {
     "data": {
      "text/plain": [
       "<matplotlib.axes._subplots.AxesSubplot at 0x7fe62033c670>"
      ]
     },
     "execution_count": 6,
     "metadata": {},
     "output_type": "execute_result"
    },
    {
     "data": {
      "image/png": "[encoded data removed]",
      "text/plain": [
       "<Figure size 432x288 with 1 Axes>"
      ]
     },
     "metadata": {
      "needs_background": "light"
     },
     "output_type": "display_data"
    }
   ],
   "source": [
    "df['Open'].plot()\n",
    "df['Close'].plot()"
   ]
  },
  {
   "cell_type": "markdown",
   "metadata": {},
   "source": [
    "The significant and fast drop in numbers was observed when the pandemic-related restictions entered into force.\n",
    "This decline took a place in March-April. After that a gradual growth was going till September when and it reached its previous indicator. To sum up, since 2nd quarter of 2020 there was in general positive trend."
   ]
  },
  {
   "cell_type": "code",
   "execution_count": 7,
   "metadata": {},
   "outputs": [
    {
     "data": {
      "text/html": [
       "<div>\n",
       "<style scoped>\n",
       "    .dataframe tbody tr th:only-of-type {\n",
       "        vertical-align: middle;\n",
       "    }\n",
       "\n",
       "    .dataframe tbody tr th {\n",
       "        vertical-align: top;\n",
       "    }\n",
       "\n",
       "    .dataframe thead th {\n",
       "        text-align: right;\n",
       "    }\n",
       "</style>\n",
       "<table border=\"1\" class=\"dataframe\">\n",
       "  <thead>\n",
       "    <tr style=\"text-align: right;\">\n",
       "      <th></th>\n",
       "      <th>Open-Close</th>\n",
       "      <th>High-Low</th>\n",
       "    </tr>\n",
       "    <tr>\n",
       "      <th>Date</th>\n",
       "      <th></th>\n",
       "      <th></th>\n",
       "    </tr>\n",
       "  </thead>\n",
       "  <tbody>\n",
       "    <tr>\n",
       "      <th>2019-12-12</th>\n",
       "      <td>-2.430023</td>\n",
       "      <td>3.710022</td>\n",
       "    </tr>\n",
       "    <tr>\n",
       "      <th>2019-12-13</th>\n",
       "      <td>-0.179993</td>\n",
       "      <td>2.609985</td>\n",
       "    </tr>\n",
       "    <tr>\n",
       "      <th>2019-12-16</th>\n",
       "      <td>-0.140015</td>\n",
       "      <td>1.179993</td>\n",
       "    </tr>\n",
       "    <tr>\n",
       "      <th>2019-12-17</th>\n",
       "      <td>-0.209991</td>\n",
       "      <td>1.089996</td>\n",
       "    </tr>\n",
       "    <tr>\n",
       "      <th>2019-12-18</th>\n",
       "      <td>0.580017</td>\n",
       "      <td>0.760010</td>\n",
       "    </tr>\n",
       "    <tr>\n",
       "      <th>...</th>\n",
       "      <td>...</td>\n",
       "      <td>...</td>\n",
       "    </tr>\n",
       "    <tr>\n",
       "      <th>2020-12-07</th>\n",
       "      <td>0.669983</td>\n",
       "      <td>2.160004</td>\n",
       "    </tr>\n",
       "    <tr>\n",
       "      <th>2020-12-08</th>\n",
       "      <td>-2.190002</td>\n",
       "      <td>2.889984</td>\n",
       "    </tr>\n",
       "    <tr>\n",
       "      <th>2020-12-09</th>\n",
       "      <td>2.339996</td>\n",
       "      <td>3.630005</td>\n",
       "    </tr>\n",
       "    <tr>\n",
       "      <th>2020-12-10</th>\n",
       "      <td>-0.550018</td>\n",
       "      <td>1.949982</td>\n",
       "    </tr>\n",
       "    <tr>\n",
       "      <th>2020-12-11</th>\n",
       "      <td>-1.500000</td>\n",
       "      <td>2.500000</td>\n",
       "    </tr>\n",
       "  </tbody>\n",
       "</table>\n",
       "<p>253 rows × 2 columns</p>\n",
       "</div>"
      ],
      "text/plain": [
       "            Open-Close  High-Low\n",
       "Date                            \n",
       "2019-12-12   -2.430023  3.710022\n",
       "2019-12-13   -0.179993  2.609985\n",
       "2019-12-16   -0.140015  1.179993\n",
       "2019-12-17   -0.209991  1.089996\n",
       "2019-12-18    0.580017  0.760010\n",
       "...                ...       ...\n",
       "2020-12-07    0.669983  2.160004\n",
       "2020-12-08   -2.190002  2.889984\n",
       "2020-12-09    2.339996  3.630005\n",
       "2020-12-10   -0.550018  1.949982\n",
       "2020-12-11   -1.500000  2.500000\n",
       "\n",
       "[253 rows x 2 columns]"
      ]
     },
     "execution_count": 7,
     "metadata": {},
     "output_type": "execute_result"
    }
   ],
   "source": [
    "# Predictor variables\n",
    "df['Open-Close']= df.Open -df.Close\n",
    "df['High-Low']  = df.High - df.Low\n",
    "df =df.dropna()\n",
    "X= df[['Open-Close', 'High-Low']]\n",
    "X"
   ]
  },
  {
   "cell_type": "code",
   "execution_count": 15,
   "metadata": {},
   "outputs": [
    {
     "name": "stdout",
     "output_type": "stream",
     "text": [
      "Train_data Accuracy: 0.59\n",
      "Test_data Accuracy: 0.59\n"
     ]
    }
   ],
   "source": [
    "#Target variable\n",
    "\n",
    "#The stategy is that if the tomorrow’s closing price is greater than today’s closing price \n",
    "#we buy DIA, else we will sell \n",
    "#+1 for the buy signal and -1 for the sell signal\n",
    "Y= np.where(df['Close'].shift(-1)>df['Close'],1,-1)\n",
    "\n",
    "# Splitting the dataset\n",
    "split_percentage = 0.8\n",
    "split = int(split_percentage*len(df))\n",
    "\n",
    "X_train = X[:split]\n",
    "Y_train = Y[:split]\n",
    "\n",
    "X_test = X[split:]\n",
    "Y_test = Y[split:]\n",
    "\n",
    "# Instantiate KNN learning model and fit the model\n",
    "knn = KNeighborsClassifier(n_neighbors=13)\n",
    "knn.fit(X_train, Y_train)\n",
    "\n",
    "# Accuracy Score\n",
    "accuracy_train = accuracy_score(Y_train, knn.predict(X_train))\n",
    "accuracy_test = accuracy_score(Y_test, knn.predict(X_test))\n",
    "\n",
    "print ('Train_data Accuracy: {:.2f}'.format(accuracy_train))\n",
    "print ('Test_data Accuracy: {:.2f}'.format(accuracy_test))"
   ]
  },
  {
   "cell_type": "code",
   "execution_count": 16,
   "metadata": {},
   "outputs": [
    {
     "data": {
      "image/png": "[encoded data removed]",
      "text/plain": [
       "<Figure size 720x360 with 1 Axes>"
      ]
     },
     "metadata": {
      "needs_background": "light"
     },
     "output_type": "display_data"
    }
   ],
   "source": [
    "# Predicted Signal\n",
    "df['Predicted_Signal'] = knn.predict(X)\n",
    "\n",
    "# DIA Cumulative Returns\n",
    "df['DIA_returns'] = np.log(df['Close']/df['Close'].shift(1))\n",
    "Cumulative_DIA_returns = df[split:]['DIA_returns'].cumsum()*100\n",
    "\n",
    "# Cumulative Strategy Returns \n",
    "df['Startegy_returns'] = df['DIA_returns']* df['Predicted_Signal'].shift(1)\n",
    "Cumulative_Strategy_returns = df[split:]['Startegy_returns'].cumsum()*100\n",
    "\n",
    "# Plot the results to visualize the performance\n",
    "plt.figure(figsize=(10,5))\n",
    "plt.plot(Cumulative_DIA_returns, color='r',label = 'DIA Returns')\n",
    "plt.plot(Cumulative_Strategy_returns, color='g', label = 'Strategy Returns')\n",
    "plt.legend()\n",
    "plt.show()"
   ]
  },
  {
   "cell_type": "code",
   "execution_count": 19,
   "metadata": {},
   "outputs": [],
   "source": [
    "DiaMeanRet=Cumulative_DIA_returns.mean()\n",
    "StrMeanRet=Cumulative_Strategy_returns.mean()"
   ]
  },
  {
   "cell_type": "code",
   "execution_count": 20,
   "metadata": {},
   "outputs": [
    {
     "name": "stdout",
     "output_type": "stream",
     "text": [
      "Over the last year ended 12.12.20 the average cumulative DIA return was about 3.70% and cumulative strategy returns in the same period are around 7.53%\n"
     ]
    }
   ],
   "source": [
    "print('Over the last year ended 12.12.20 the average cumulative DIA return was about {:.2f}% and cumulative strategy returns in the same period are around {:.2f}%'.format(DiaMeanRet, StrMeanRet))"
   ]
  },
  {
   "cell_type": "code",
   "execution_count": 21,
   "metadata": {},
   "outputs": [
    {
     "name": "stdout",
     "output_type": "stream",
     "text": [
      "Sharpe ratio: 0.80 which is considered as sub-optimal/quite poor as it is lower than 1.\n"
     ]
    }
   ],
   "source": [
    "#Sharpe ratio calculation\n",
    "Std = Cumulative_Strategy_returns.std()\n",
    "Sharpe = (Cumulative_Strategy_returns-Cumulative_DIA_returns)/Std\n",
    "Sharpe = Sharpe.mean()\n",
    "print('Sharpe ratio: {:.2f} which is considered as sub-optimal/quite poor as it is lower than 1.'.format(Sharpe))"
   ]
  }
 ],
 "metadata": {
  "kernelspec": {
   "display_name": "Python 3",
   "language": "python",
   "name": "python3"
  },
  "language_info": {
   "codemirror_mode": {
    "name": "ipython",
    "version": 3
   },
   "file_extension": ".py",
   "mimetype": "text/x-python",
   "name": "python",
   "nbconvert_exporter": "python",
   "pygments_lexer": "ipython3",
   "version": "3.8.3"
  }
 },
 "nbformat": 4,
 "nbformat_minor": 4
}
