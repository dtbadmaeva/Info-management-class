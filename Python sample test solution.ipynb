{
 "cells": [
  {
   "cell_type": "markdown",
   "metadata": {},
   "source": [
    "## Example of the task #1\n",
    "\n",
    "Ivan, how old are you?<br>\n",
    "\n",
    "Input: word and integer number (from 10 to 30) separated with space.<br>\n",
    "***Required Output***: provide the greeting and the message (if the number is less than 18 use Have a coke! message; use Have a martini! otherwise). Use the following example (Ivan 15 is in input)."
   ]
  },
  {
   "cell_type": "code",
   "execution_count": 8,
   "metadata": {},
   "outputs": [
    {
     "name": "stdout",
     "output_type": "stream",
     "text": [
      "Di 21\n",
      "Hello, Di!\n",
      "Have a martini!\n"
     ]
    }
   ],
   "source": [
    "#my solution\n",
    "n=input().split()\n",
    "n[1]=int(n[1])\n",
    "print(\"Hello, {}!\".format(n[0]))\n",
    "if n[1]<18:\n",
    "    print('Have a coke!')\n",
    "else:\n",
    "    print(\"Have a martini!\")"
   ]
  },
  {
   "cell_type": "markdown",
   "metadata": {},
   "source": [
    "##  Example of the task #2\n",
    "Grade, Ivan!\n",
    "\n",
    "Input: 4 float numbers separated with comma.<br>\n",
    "***Required Output***: calculate weighted average grade in the following way: grades #1, #2 and #3 have equal weight: 0.2; the 4th grade has weight 0.4. Round the final result to closest integer above (use math.ceil() function from library math)."
   ]
  },
  {
   "cell_type": "code",
   "execution_count": 4,
   "metadata": {},
   "outputs": [
    {
     "name": "stdout",
     "output_type": "stream",
     "text": [
      "3.5,4.6,7.0,8.6\n",
      "7\n"
     ]
    }
   ],
   "source": [
    "#my solution\n",
    "import math\n",
    "n=input().split(\",\")\n",
    "n1=[float(i) for i in n]\n",
    "res=0.2*n1[0]+0.2*n1[1]+0.2*n1[2]+0.4*n1[3]\n",
    "print(math.ceil(res))"
   ]
  },
  {
   "cell_type": "markdown",
   "metadata": {},
   "source": [
    "## Example of the task 3 \n",
    "Ivan's Password!\n",
    "\n",
    "Input: string of symbols (Ivan's password).<br>\n",
    "***Required Output***: if Ivan's password contains at least 4 unique symbols - print valid; otherwise - invalid.<br>\n",
    "\n",
    "Sample Input:<br>\n",
    "Ivanthebest<br>\n",
    "Sample Output:<br>\n",
    "valid"
   ]
  },
  {
   "cell_type": "code",
   "execution_count": 9,
   "metadata": {},
   "outputs": [
    {
     "name": "stdout",
     "output_type": "stream",
     "text": [
      "sd;kfb\n",
      "valid\n"
     ]
    }
   ],
   "source": [
    "n=input()\n",
    "if len(list(set(n)))>=4:\n",
    "    print(\"valid\")\n",
    "else:\n",
    "    print(\"invalid\")"
   ]
  },
  {
   "cell_type": "markdown",
   "metadata": {},
   "source": [
    "## Example of the task 4\n",
    "\n",
    "Input: pairs NAME RATING (where name is one word in Latin letters and rating is integer number), separated with pipes (|). Assume all rating integer numbers are different.<br>\n",
    "***Required Output***: provide the NAME of Ivan's pet with the highest rating.\n",
    "\n",
    "Sample Input:<br>\n",
    "Bobik 5|Barbos 3|Eva 9<br>\n",
    "Sample Output:<br>\n",
    "Eva"
   ]
  },
  {
   "cell_type": "code",
   "execution_count": 11,
   "metadata": {},
   "outputs": [
    {
     "name": "stdout",
     "output_type": "stream",
     "text": [
      "Bobik 5|Barbos 3|Eva 9\n",
      "Eva\n"
     ]
    }
   ],
   "source": [
    "n=input().split(\"|\")\n",
    "n1=[i.split() for i in n]\n",
    "nam, rat=[],[] #name and rating\n",
    "for i in n1:\n",
    "    nam.append(i[0])\n",
    "    rat.append(i[1])\n",
    "position=rat.index(max(rat))\n",
    "print(nam[position])"
   ]
  },
  {
   "cell_type": "markdown",
   "metadata": {},
   "source": [
    "## Example of the task 5\n",
    "Ivan's Essay!\n",
    "\n",
    "Input: words in small Latin letters, separated with spaces.<br>\n",
    "***Required Output***: provide the most frequent word(s). Hint: if there are more than 1 word with the highest frequency - print them in a-z order separated with space.<br>\n",
    "\n",
    "Sample Input:<br>\n",
    "now i am fighting with my hands up hands up feel the bullets from your head rush head rush<br>\n",
    "Sample Output:<br>\n",
    "hands head rush up"
   ]
  },
  {
   "cell_type": "code",
   "execution_count": 13,
   "metadata": {},
   "outputs": [
    {
     "name": "stdout",
     "output_type": "stream",
     "text": [
      "now i am fighting with my hands up hands up feel the bullets from your head rush head rush\n",
      "hands head rush up\n"
     ]
    }
   ],
   "source": [
    "n=input().split()\n",
    "uniq=list(set(n))\n",
    "freq=[]\n",
    "for i in uniq:\n",
    "    freq.append(n.count(i))\n",
    "highest=[]\n",
    "for i in range(len(freq)):\n",
    "    if freq[i]==max(freq):\n",
    "        highest.append(uniq[i])\n",
    "print(*sorted(highest))"
   ]
  }
 ],
 "metadata": {
  "kernelspec": {
   "display_name": "Python 3",
   "language": "python",
   "name": "python3"
  },
  "language_info": {
   "codemirror_mode": {
    "name": "ipython",
    "version": 3
   },
   "file_extension": ".py",
   "mimetype": "text/x-python",
   "name": "python",
   "nbconvert_exporter": "python",
   "pygments_lexer": "ipython3",
   "version": "3.8.3"
  }
 },
 "nbformat": 4,
 "nbformat_minor": 4
}
